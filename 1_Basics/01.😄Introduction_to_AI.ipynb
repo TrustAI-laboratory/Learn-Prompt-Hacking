{
  "cells": [
    {
      "cell_type": "markdown",
      "metadata": {
        "id": "view-in-github",
        "colab_type": "text"
      },
      "source": [
        "<a href=\"https://colab.research.google.com/github/TrustAI-laboratory/Learn-Prompt-Hacking/blob/main/1_Basics/01.%F0%9F%98%84Introduction_to_AI.ipynb\" target=\"_parent\"><img src=\"https://colab.research.google.com/assets/colab-badge.svg\" alt=\"Open In Colab\"/></a>"
      ]
    },
    {
      "cell_type": "code",
      "source": [
        "# @title\n",
        "# we'll use these to read in some data from Colab\n",
        "from IPython.display import IFrame\n",
        "from google.colab import userdata"
      ],
      "metadata": {
        "id": "5KG_WfJmW-l_"
      },
      "execution_count": null,
      "outputs": []
    },
    {
      "cell_type": "markdown",
      "metadata": {
        "id": "WNzHBFzfhfXx"
      },
      "source": [
        "# What is AI?\n",
        "\n",
        "**Last updated**: `2024-08-12`"
      ]
    },
    {
      "cell_type": "markdown",
      "source": [
        "This is an extremely simplified definition, see [Wikipedia](https://en.wikipedia.org/wiki/Artificial_intelligence) ↩\n",
        "\n",
        "Artificial intelligence (AI) is a field in which people have created \"smart\" algorithms that can \"learn\" from data.\n",
        "\n",
        "This course focuses on Generative AI (GenAI), a type of AI that can create new content such as articles or images, which previously only humans could do. For example, GenAIs can write essays, solve math problems, and win art competitions.\n",
        "\n",
        "Although GenAI is extremely useful, it requires humans to direct it on what to do. Often, GenAIs are like new company interns. They are very capable, but they need clear instructions to do well. Being able to properly instruct GenAIs is a very powerful skill. You can instruct a GenAI by sending it a prompt, which is usually a text instruction (e.g. \"Give me 5 ice cream flavors\"). GenAIs that read and write text are called large language models (LLMs)."
      ],
      "metadata": {
        "id": "cw9ttA8dxLM8"
      }
    },
    {
      "cell_type": "markdown",
      "source": [
        "**Prompts can be written in any language, and as we will see later in this course, prompts can sometimes consist of images, audio, or other mediums.**"
      ],
      "metadata": {
        "id": "wU3WmcmgxmQN"
      }
    },
    {
      "cell_type": "markdown",
      "source": [
        "# Why should you care about Generative AI?"
      ],
      "metadata": {
        "id": "MD5H_kBkx9Nz"
      }
    },
    {
      "cell_type": "markdown",
      "source": [
        "Generative AI can be used to automate creative tasks that so far only humans have been able to do. This is saving people and companies money and time. If you can describe your task to a Generative AI, it can likely either do it for you or give you a solid starting point.\n",
        "\n",
        "Here are a few of our favorite applications of Generative AI:\n",
        "\n",
        "* Writing status reports\n",
        "* Generating marketing content\n",
        "* Explaining and simplifying content\n"
      ],
      "metadata": {
        "id": "iRAorUveyHhd"
      }
    },
    {
      "cell_type": "markdown",
      "metadata": {
        "id": "8IOBeNGJhfXz"
      },
      "source": [
        "# How do I get started with Generative AI?\n"
      ]
    },
    {
      "cell_type": "markdown",
      "source": [
        "This course will provide you with the fundamentals of GenAI, including:\n",
        "* prompting strategies\n",
        "* the most popular GenAIs, and how to use GenAI in your daily life.\n",
        "* llm security risk about prompt hacking.\n",
        "\n",
        "This module is completely non-technical, so it should be easy to understand. We will give you all the information you need to know to get started from scratch, so you can quickly get started with using Generative AI. The rest of the modules will improve your ability and knowledge in specific types of prompting and use cases of Generative AI."
      ],
      "metadata": {
        "id": "xCXyE-bRsQFe"
      }
    }
  ],
  "metadata": {
    "kernelspec": {
      "display_name": "Python 3",
      "name": "python3"
    },
    "language_info": {
      "codemirror_mode": {
        "name": "ipython",
        "version": 3
      },
      "file_extension": ".py",
      "mimetype": "text/x-python",
      "name": "python",
      "nbconvert_exporter": "python",
      "pygments_lexer": "ipython3",
      "version": "3.10.13"
    },
    "colab": {
      "provenance": [],
      "include_colab_link": true
    }
  },
  "nbformat": 4,
  "nbformat_minor": 0
}